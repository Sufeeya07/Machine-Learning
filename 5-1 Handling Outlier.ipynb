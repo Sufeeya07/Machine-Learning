{
 "cells": [
  {
   "cell_type": "markdown",
   "id": "ae23564c-8929-487b-92de-6ecec6a0db1d",
   "metadata": {},
   "source": [
    "# Handling outliers"
   ]
  },
  {
   "cell_type": "markdown",
   "id": "07999fb1-11ff-4143-927a-9d3ef2f57f3e",
   "metadata": {},
   "source": [
    "# 5 number summary \n",
    "\n",
    "1. minimum calue\n",
    "2. Q1-25 percentile\n",
    "3. median 50 percentile\n",
    "4. Q3-75 percentile\n",
    "5. maximum"
   ]
  },
  {
   "cell_type": "code",
   "execution_count": 87,
   "id": "46570ffc-701e-4edd-a3f9-0dd0697be0cf",
   "metadata": {},
   "outputs": [],
   "source": [
    "import numpy as np\n",
    "import pandas as pd"
   ]
  },
  {
   "cell_type": "code",
   "execution_count": 62,
   "id": "009243d8-fc35-4cef-b186-9529061e0eca",
   "metadata": {},
   "outputs": [],
   "source": [
    "list_marks=[45,32,56,89,54,32,89,90,87,67,54,45,98,99,67,74,1000,11000]"
   ]
  },
  {
   "cell_type": "code",
   "execution_count": 63,
   "id": "adcfb875-0abe-4362-9daf-92ea44ccf63e",
   "metadata": {},
   "outputs": [
    {
     "data": {
      "text/plain": [
       "[45, 32, 56, 89, 54, 32, 89, 90, 87, 67, 54, 45, 98, 99, 67, 74, 1000, 11000]"
      ]
     },
     "execution_count": 63,
     "metadata": {},
     "output_type": "execute_result"
    }
   ],
   "source": [
    "list_marks"
   ]
  },
  {
   "cell_type": "code",
   "execution_count": 19,
   "id": "c81be0b8-030c-477f-806b-0ba7df57bb4e",
   "metadata": {},
   "outputs": [
    {
     "data": {
      "text/plain": [
       "array([70.5])"
      ]
     },
     "execution_count": 19,
     "metadata": {},
     "output_type": "execute_result"
    }
   ],
   "source": [
    "np.percentile(list_marks,[50])"
   ]
  },
  {
   "cell_type": "code",
   "execution_count": 18,
   "id": "fcb419f2-d579-4a31-b2e3-e18f58aa86a1",
   "metadata": {},
   "outputs": [
    {
     "data": {
      "text/plain": [
       "array([11000.])"
      ]
     },
     "execution_count": 18,
     "metadata": {},
     "output_type": "execute_result"
    }
   ],
   "source": [
    "np.percentile(list_marks,[100]) # maximum"
   ]
  },
  {
   "cell_type": "code",
   "execution_count": null,
   "id": "ebeacd80-6de3-40ef-a69e-212ac45d4303",
   "metadata": {},
   "outputs": [],
   "source": [
    "# lower fence <----> higher fence  negative also an outliers"
   ]
  },
  {
   "cell_type": "code",
   "execution_count": 64,
   "id": "14d75d30-07a9-4917-9e7d-dad16edb4b68",
   "metadata": {},
   "outputs": [],
   "source": [
    "mini,q1,q2,q3,maxi= np.quantile(list_marks , [0, 0.25,0.50,0.75,1.0])"
   ]
  },
  {
   "cell_type": "code",
   "execution_count": 65,
   "id": "5adbe76c-9171-4249-8c32-3784c3408de2",
   "metadata": {},
   "outputs": [
    {
     "data": {
      "text/plain": [
       "np.float64(70.5)"
      ]
     },
     "execution_count": 65,
     "metadata": {},
     "output_type": "execute_result"
    }
   ],
   "source": [
    "q2"
   ]
  },
  {
   "cell_type": "code",
   "execution_count": 14,
   "id": "ce0b6cd3-b45c-49a4-917a-ee90ccad5533",
   "metadata": {},
   "outputs": [],
   "source": [
    "# find lower fence and higher fence \n",
    "Interquartile Range (IQR) "
   ]
  },
  {
   "cell_type": "code",
   "execution_count": 66,
   "id": "60aae4b7-8747-4996-ba8d-27dce495dfeb",
   "metadata": {},
   "outputs": [
    {
     "name": "stdout",
     "output_type": "stream",
     "text": [
      "89.75- 54.0\n",
      "35.75\n"
     ]
    },
    {
     "data": {
      "text/plain": [
       "np.float64(35.75)"
      ]
     },
     "execution_count": 66,
     "metadata": {},
     "output_type": "execute_result"
    }
   ],
   "source": [
    "IQR =q3 - q1\n",
    "print(f'{q3}- {q1}')\n",
    "print(IQR)\n",
    "IQR"
   ]
  },
  {
   "cell_type": "code",
   "execution_count": 67,
   "id": "b74b03cc-67c6-47b5-b4bc-f0a8285a029e",
   "metadata": {},
   "outputs": [],
   "source": [
    "lf = q1-1.5*IQR\n",
    "higher_fence= q3+1.5*IQR"
   ]
  },
  {
   "cell_type": "code",
   "execution_count": 181,
   "id": "e409ed6e-9c1e-436f-82bd-7b19ae4d3745",
   "metadata": {},
   "outputs": [
    {
     "data": {
      "text/plain": [
       "(np.float64(27.544716185257876), np.float64(143.375))"
      ]
     },
     "execution_count": 181,
     "metadata": {},
     "output_type": "execute_result"
    }
   ],
   "source": [
    "lf , higher_fence"
   ]
  },
  {
   "cell_type": "code",
   "execution_count": 118,
   "id": "0991dfec-589b-42a7-b9b0-cf263dd8a25e",
   "metadata": {},
   "outputs": [
    {
     "name": "stdout",
     "output_type": "stream",
     "text": [
      "This element is not an outliers: 45\n",
      "This element is not an outliers: 32\n",
      "This element is not an outliers: 56\n",
      "This element is not an outliers: 89\n",
      "This element is not an outliers: 54\n",
      "This element is not an outliers: 32\n",
      "This element is not an outliers: 89\n",
      "This element is not an outliers: 90\n",
      "This element is not an outliers: 87\n",
      "This element is not an outliers: 67\n",
      "This element is not an outliers: 54\n",
      "This element is not an outliers: 45\n",
      "This element is not an outliers: 98\n",
      "This element is not an outliers: 99\n",
      "This element is not an outliers: 67\n",
      "This element is not an outliers: 74\n"
     ]
    }
   ],
   "source": [
    "outliers=[]\n",
    "\n",
    "for i in list_marks:\n",
    "    if i >=0.75 and i<=142.75:\n",
    "        print(f'This element is not an outliers: {i}')\n",
    "\n",
    "    else: outliers.append(i)"
   ]
  },
  {
   "cell_type": "code",
   "execution_count": 70,
   "id": "0d6940be-d4fa-4fd5-8537-a176fefa0ee3",
   "metadata": {},
   "outputs": [
    {
     "data": {
      "text/plain": [
       "[1000, 11000]"
      ]
     },
     "execution_count": 70,
     "metadata": {},
     "output_type": "execute_result"
    }
   ],
   "source": [
    "outliers"
   ]
  },
  {
   "cell_type": "code",
   "execution_count": 78,
   "id": "76061e3d-8575-4b30-adb5-cf6de9cf186d",
   "metadata": {},
   "outputs": [],
   "source": [
    "import seaborn as sns\n",
    "import matplotlib.pyplot as plt"
   ]
  },
  {
   "cell_type": "code",
   "execution_count": 182,
   "id": "ac05d976-bcbb-49bb-8922-689fe903e2e5",
   "metadata": {},
   "outputs": [
    {
     "data": {
      "text/plain": [
       "<Axes: >"
      ]
     },
     "execution_count": 182,
     "metadata": {},
     "output_type": "execute_result"
    },
    {
     "data": {
      "image/png": "[encoded data removed]",
      "text/plain": [
       "<Figure size 640x480 with 1 Axes>"
      ]
     },
     "metadata": {},
     "output_type": "display_data"
    }
   ],
   "source": [
    "sns.boxplot(list_marks)"
   ]
  },
  {
   "cell_type": "code",
   "execution_count": 74,
   "id": "5292706f-62cb-4ae6-aa4a-4572f5227ff6",
   "metadata": {},
   "outputs": [],
   "source": [
    "lst_marks=[45,32,56,89,54,32,89,90,87,67,54,45,98,99,67,74]"
   ]
  },
  {
   "cell_type": "code",
   "execution_count": 80,
   "id": "d9080756-554c-4115-a28a-606e41c4eae7",
   "metadata": {},
   "outputs": [
    {
     "data": {
      "text/plain": [
       "<Axes: >"
      ]
     },
     "execution_count": 80,
     "metadata": {},
     "output_type": "execute_result"
    },
    {
     "data": {
      "image/png": "[encoded data removed]",
      "text/plain": [
       "<Figure size 1000x500 with 1 Axes>"
      ]
     },
     "metadata": {},
     "output_type": "display_data"
    }
   ],
   "source": [
    "sns.boxplot(lst_marks)"
   ]
  },
  {
   "cell_type": "markdown",
   "id": "699bab23-4d26-4f20-9fd2-239811a88799",
   "metadata": {},
   "source": [
    "# -------------------------------------------"
   ]
  },
  {
   "cell_type": "code",
   "execution_count": 103,
   "id": "6b5e9c40-e760-4145-854a-95bb96525226",
   "metadata": {},
   "outputs": [
    {
     "data": {
      "text/html": [
       "<div>\n",
       "<style scoped>\n",
       "    .dataframe tbody tr th:only-of-type {\n",
       "        vertical-align: middle;\n",
       "    }\n",
       "\n",
       "    .dataframe tbody tr th {\n",
       "        vertical-align: top;\n",
       "    }\n",
       "\n",
       "    .dataframe thead th {\n",
       "        text-align: right;\n",
       "    }\n",
       "</style>\n",
       "<table border=\"1\" class=\"dataframe\">\n",
       "  <thead>\n",
       "    <tr style=\"text-align: right;\">\n",
       "      <th></th>\n",
       "      <th>Value</th>\n",
       "    </tr>\n",
       "  </thead>\n",
       "  <tbody>\n",
       "    <tr>\n",
       "      <th>0</th>\n",
       "      <td>35.846293</td>\n",
       "    </tr>\n",
       "    <tr>\n",
       "      <th>1</th>\n",
       "      <td>45.793547</td>\n",
       "    </tr>\n",
       "    <tr>\n",
       "      <th>2</th>\n",
       "      <td>46.572855</td>\n",
       "    </tr>\n",
       "    <tr>\n",
       "      <th>3</th>\n",
       "      <td>41.977227</td>\n",
       "    </tr>\n",
       "    <tr>\n",
       "      <th>4</th>\n",
       "      <td>48.387143</td>\n",
       "    </tr>\n",
       "    <tr>\n",
       "      <th>...</th>\n",
       "      <td>...</td>\n",
       "    </tr>\n",
       "    <tr>\n",
       "      <th>98</th>\n",
       "      <td>50.582087</td>\n",
       "    </tr>\n",
       "    <tr>\n",
       "      <th>99</th>\n",
       "      <td>38.570297</td>\n",
       "    </tr>\n",
       "    <tr>\n",
       "      <th>100</th>\n",
       "      <td>120.000000</td>\n",
       "    </tr>\n",
       "    <tr>\n",
       "      <th>101</th>\n",
       "      <td>130.000000</td>\n",
       "    </tr>\n",
       "    <tr>\n",
       "      <th>102</th>\n",
       "      <td>140.000000</td>\n",
       "    </tr>\n",
       "  </tbody>\n",
       "</table>\n",
       "<p>103 rows × 1 columns</p>\n",
       "</div>"
      ],
      "text/plain": [
       "          Value\n",
       "0     35.846293\n",
       "1     45.793547\n",
       "2     46.572855\n",
       "3     41.977227\n",
       "4     48.387143\n",
       "..          ...\n",
       "98    50.582087\n",
       "99    38.570297\n",
       "100  120.000000\n",
       "101  130.000000\n",
       "102  140.000000\n",
       "\n",
       "[103 rows x 1 columns]"
      ]
     },
     "execution_count": 103,
     "metadata": {},
     "output_type": "execute_result"
    }
   ],
   "source": [
    "data= np.random.normal(50, 10,100)\n",
    "# Introduce outliers\n",
    "data=np.append(data, [120,130,140])\n",
    "df = pd.DataFrame(data, columns=['Value'])\n",
    "df"
   ]
  },
  {
   "cell_type": "code",
   "execution_count": 149,
   "id": "a82cc189-25ed-49e2-a5b7-1c8c25d3f2e9",
   "metadata": {},
   "outputs": [
    {
     "name": "stdout",
     "output_type": "stream",
     "text": [
      "44.18536890420111 55.279137383496604\n"
     ]
    }
   ],
   "source": [
    "mini,q1,q2,q3,maxi= np.quantile(df['Value'], [0, 0.25,0.50,0.75,1.0])\n",
    "\n",
    "print(q1, q3)"
   ]
  },
  {
   "cell_type": "code",
   "execution_count": null,
   "id": "4182ad10-0c1f-4ba2-bcd1-bc5c25ae6141",
   "metadata": {},
   "outputs": [],
   "source": [
    "# we can also try this\n",
    "\n",
    "Q1 = df[\"Value\"].quantile(0.25)\n",
    "Q3 = df[\"Value\"].quantile(0.75)"
   ]
  },
  {
   "cell_type": "code",
   "execution_count": 152,
   "id": "46d8da28-016d-46d7-a624-f55a30a303dc",
   "metadata": {},
   "outputs": [
    {
     "data": {
      "text/plain": [
       "np.float64(11.093768479295491)"
      ]
     },
     "execution_count": 152,
     "metadata": {},
     "output_type": "execute_result"
    }
   ],
   "source": [
    "IQR = q3-q1\n",
    "IQR"
   ]
  },
  {
   "cell_type": "code",
   "execution_count": 153,
   "id": "2405d5df-08cf-4003-8933-ceec179fecd1",
   "metadata": {},
   "outputs": [
    {
     "data": {
      "text/plain": [
       "(np.float64(27.544716185257876), np.float64(71.91979010243983))"
      ]
     },
     "execution_count": 153,
     "metadata": {},
     "output_type": "execute_result"
    }
   ],
   "source": [
    "lf= q1- 1.5 *IQR\n",
    "\n",
    "hf=q3+1.5* IQR\n",
    "\n",
    "lf, hf"
   ]
  },
  {
   "cell_type": "code",
   "execution_count": 154,
   "id": "3385ba8a-7257-4267-9079-6d7d428078d6",
   "metadata": {},
   "outputs": [
    {
     "name": "stdout",
     "output_type": "stream",
     "text": [
      "Outliers detected using IQR:\n",
      "           Value\n",
      "74    23.802549\n",
      "100  120.000000\n",
      "101  130.000000\n",
      "102  140.000000\n"
     ]
    }
   ],
   "source": [
    "df_outliers_iqr = df[(df[\"Value\"] < lf ) | (df[\"Value\"] > hf)]\n",
    "\n",
    "print(\"Outliers detected using IQR:\\n\", df_outliers_iqr)"
   ]
  },
  {
   "cell_type": "code",
   "execution_count": 177,
   "id": "b96748e7-0579-40ee-9f17-f245e50cc50b",
   "metadata": {},
   "outputs": [
    {
     "name": "stdout",
     "output_type": "stream",
     "text": [
      "1 : This element is not an outliers: 54.96714153011233\n",
      "2 : This element is not an outliers: 48.61735698828815\n",
      "3 : This element is not an outliers: 56.47688538100692\n",
      "4 : This element is not an outliers: 65.23029856408026\n",
      "5 : This element is not an outliers: 47.658466252766644\n",
      "6 : This element is not an outliers: 47.6586304305082\n",
      "7 : This element is not an outliers: 65.79212815507391\n",
      "8 : This element is not an outliers: 57.67434729152909\n",
      "9 : This element is not an outliers: 45.30525614065048\n",
      "10 : This element is not an outliers: 55.42560043585965\n",
      "11 : This element is not an outliers: 45.365823071875376\n",
      "12 : This element is not an outliers: 45.34270246429743\n",
      "13 : This element is not an outliers: 52.41962271566034\n",
      "14 : This element is not an outliers: 30.86719755342202\n",
      "15 : This element is not an outliers: 32.75082167486967\n",
      "16 : This element is not an outliers: 44.37712470759027\n",
      "17 : This element is not an outliers: 39.87168879665576\n",
      "18 : This element is not an outliers: 53.142473325952736\n",
      "19 : This element is not an outliers: 40.91975924478789\n",
      "20 : This element is not an outliers: 35.87696298664709\n",
      "21 : This element is not an outliers: 64.65648768921554\n",
      "22 : This element is not an outliers: 47.74223699513465\n",
      "23 : This element is not an outliers: 50.67528204687924\n",
      "24 : This element is not an outliers: 35.75251813786544\n",
      "25 : This element is not an outliers: 44.556172754748175\n",
      "26 : This element is not an outliers: 51.10922589709866\n",
      "27 : This element is not an outliers: 38.490064225776976\n",
      "28 : This element is not an outliers: 53.75698018345672\n",
      "29 : This element is not an outliers: 43.99361310081195\n",
      "30 : This element is not an outliers: 47.083062502067236\n",
      "31 : This element is not an outliers: 43.98293387770603\n",
      "32 : This element is not an outliers: 68.52278184508938\n",
      "33 : This element is not an outliers: 49.86502775262066\n",
      "34 : This element is not an outliers: 39.422890710440996\n",
      "35 : This element is not an outliers: 58.225449121031886\n",
      "36 : This element is not an outliers: 37.791563500289776\n",
      "37 : This element is not an outliers: 52.08863595004755\n",
      "38 : This element is not an outliers: 30.403298761202244\n",
      "39 : This element is not an outliers: 36.71813951101569\n",
      "40 : This element is not an outliers: 51.96861235869123\n",
      "41 : This element is not an outliers: 57.38466579995411\n",
      "42 : This element is not an outliers: 51.7136828118997\n",
      "43 : This element is not an outliers: 48.843517176117594\n",
      "44 : This element is not an outliers: 46.98896304410711\n",
      "45 : This element is not an outliers: 35.214780096325725\n",
      "46 : This element is not an outliers: 42.801557916052914\n",
      "47 : This element is not an outliers: 45.393612290402125\n",
      "48 : This element is not an outliers: 60.57122226218915\n",
      "49 : This element is not an outliers: 53.43618289568462\n",
      "50 : This element is not an outliers: 32.36959844637266\n",
      "51 : This element is not an outliers: 53.24083969394795\n",
      "52 : This element is not an outliers: 46.149177195836835\n",
      "53 : This element is not an outliers: 43.23077999694041\n",
      "54 : This element is not an outliers: 56.11676288840868\n",
      "55 : This element is not an outliers: 60.30999522495951\n",
      "56 : This element is not an outliers: 59.31280119116199\n",
      "57 : This element is not an outliers: 41.607824767773614\n",
      "58 : This element is not an outliers: 46.907876241487855\n",
      "59 : This element is not an outliers: 53.31263431403564\n",
      "60 : This element is not an outliers: 59.75545127122359\n",
      "61 : This element is not an outliers: 45.2082576215471\n",
      "62 : This element is not an outliers: 48.14341023336183\n",
      "63 : This element is not an outliers: 38.93665025993972\n",
      "64 : This element is not an outliers: 38.037933759193294\n",
      "65 : This element is not an outliers: 58.125258223941984\n",
      "66 : This element is not an outliers: 63.56240028570823\n",
      "67 : This element is not an outliers: 49.27989878419666\n",
      "68 : This element is not an outliers: 60.03532897892024\n",
      "69 : This element is not an outliers: 53.61636025047634\n",
      "70 : This element is not an outliers: 43.54880245394876\n",
      "71 : This element is not an outliers: 53.61395605508414\n",
      "72 : This element is not an outliers: 65.38036566465969\n",
      "73 : This element is not an outliers: 49.64173960890049\n",
      "74 : This element is not an outliers: 65.64643655814007\n",
      "75 : This element is not an outliers: 58.21902504375224\n",
      "76 : This element is not an outliers: 50.870470682381715\n",
      "77 : This element is not an outliers: 47.009926495341325\n",
      "78 : This element is not an outliers: 50.91760776535502\n",
      "79 : This element is not an outliers: 30.124310853991073\n",
      "80 : This element is not an outliers: 47.80328112162488\n",
      "81 : This element is not an outliers: 53.57112571511746\n",
      "82 : This element is not an outliers: 64.77894044741517\n",
      "83 : This element is not an outliers: 44.81729781726352\n",
      "84 : This element is not an outliers: 41.91506397106812\n",
      "85 : This element is not an outliers: 44.982429564154636\n",
      "86 : This element is not an outliers: 59.15402117702074\n",
      "87 : This element is not an outliers: 53.287511096596845\n",
      "88 : This element is not an outliers: 44.70239796232961\n",
      "89 : This element is not an outliers: 55.13267433113356\n",
      "90 : This element is not an outliers: 50.9707754934804\n",
      "91 : This element is not an outliers: 59.68644990532889\n",
      "92 : This element is not an outliers: 42.979469061226474\n",
      "93 : This element is not an outliers: 46.723378534022316\n",
      "94 : This element is not an outliers: 46.078918468678424\n",
      "95 : This element is not an outliers: 35.364850518678814\n",
      "96 : This element is not an outliers: 52.96120277064576\n",
      "97 : This element is not an outliers: 52.610552721798896\n",
      "98 : This element is not an outliers: 50.05113456642461\n",
      "99 : This element is not an outliers: 47.65412866624853\n",
      "\n",
      "Total Outliers: 4\n",
      "Total Non-Outliers: 99\n"
     ]
    }
   ],
   "source": [
    "# use for loop\n",
    "non_outliers = []\n",
    "outliers=[]\n",
    "\n",
    "for  i in df['Value']:\n",
    "    if i >=lf and i<=hf:  # lf <= i <= hf:\n",
    "        non_outliers.append(( i))\n",
    "        print(f'{len(non_outliers)} : This element is not an outliers: {i}')\n",
    "\n",
    "    else: outliers.append(i) \n",
    "print(f\"\\nTotal Outliers: {len(outliers)}\")\n",
    "print(f\"Total Non-Outliers: {len(non_outliers)}\")"
   ]
  },
  {
   "cell_type": "code",
   "execution_count": 178,
   "id": "421d1994-b033-41ee-b69a-d1c346179b74",
   "metadata": {},
   "outputs": [
    {
     "data": {
      "text/plain": [
       "<Axes: >"
      ]
     },
     "execution_count": 178,
     "metadata": {},
     "output_type": "execute_result"
    },
    {
     "data": {
      "image/png": "[encoded data removed]",
      "text/plain": [
       "<Figure size 640x480 with 1 Axes>"
      ]
     },
     "metadata": {},
     "output_type": "display_data"
    }
   ],
   "source": [
    "sns.boxplot(df)"
   ]
  },
  {
   "cell_type": "code",
   "execution_count": null,
   "id": "90387bb6-5dda-474b-a166-8f9f3a38bb64",
   "metadata": {},
   "outputs": [],
   "source": []
  }
 ],
 "metadata": {
  "kernelspec": {
   "display_name": "Python 3 (ipykernel)",
   "language": "python",
   "name": "python3"
  },
  "language_info": {
   "codemirror_mode": {
    "name": "ipython",
    "version": 3
   },
   "file_extension": ".py",
   "mimetype": "text/x-python",
   "name": "python",
   "nbconvert_exporter": "python",
   "pygments_lexer": "ipython3",
   "version": "3.13.1"
  }
 },
 "nbformat": 4,
 "nbformat_minor": 5
}
